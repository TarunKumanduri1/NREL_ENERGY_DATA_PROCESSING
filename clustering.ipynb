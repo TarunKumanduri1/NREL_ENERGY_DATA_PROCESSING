{
  "nbformat": 4,
  "nbformat_minor": 0,
  "metadata": {
    "colab": {
      "provenance": []
    },
    "kernelspec": {
      "name": "python3",
      "display_name": "Python 3"
    },
    "language_info": {
      "name": "python"
    }
  },
  "cells": [
    {
      "cell_type": "code",
      "execution_count": null,
      "metadata": {
        "colab": {
          "base_uri": "https://localhost:8080/"
        },
        "id": "in9zzsJmRTsE",
        "outputId": "25292cf2-ef7d-4c70-c6ac-be0a13274b07"
      },
      "outputs": [
        {
          "output_type": "stream",
          "name": "stdout",
          "text": [
            "Loading data...\n",
            "Data loaded. Starting clustering...\n",
            "Starting clustering process...\n",
            "Clustering process completed.\n",
            "Verified: All plants have been assigned to clusters.\n",
            "\n",
            "First few rows of the result:\n",
            "   ORISPL FUELG1                           PNAME   CNTYNAME        LAT  \\\n",
            "0   60680    SUN                ANAD Solar Array    Calhoun  33.626728   \n",
            "1   61924    SUN  Cumblerland Land Holdings, LLC  Limestone  34.949740   \n",
            "2   60679    SUN         Fort Rucker Solar Array       Dale  31.331148   \n",
            "3   60583    SUN            LaFayette Solar Farm   Chambers  32.876313   \n",
            "4   62462    SUN                   Muscle Shoals    Colbert  34.769730   \n",
            "\n",
            "         LON  cluster  \n",
            "0 -85.969481       12  \n",
            "1 -86.868053        6  \n",
            "2 -85.730190        0  \n",
            "3 -85.388210        0  \n",
            "4 -87.904540        1  \n",
            "\n",
            "Shape of the result: (6344, 7)\n",
            "\n",
            "Cluster distribution:\n",
            "cluster\n",
            "0      250\n",
            "1      250\n",
            "2      250\n",
            "3      250\n",
            "4      250\n",
            "      ... \n",
            "158      2\n",
            "159      2\n",
            "160      1\n",
            "161      1\n",
            "162      1\n",
            "Name: count, Length: 163, dtype: int64\n",
            "\n",
            "Number of clusters: 163\n",
            "\n",
            "Process completed.\n"
          ]
        }
      ],
      "source": [
        "import pandas as pd\n",
        "import numpy as np\n",
        "from sklearn.cluster import KMeans\n",
        "\n",
        "def cluster_locations(df, max_cluster_size=250):\n",
        "    print(\"Starting clustering process...\")\n",
        "\n",
        "    # Ensure CNTYNAME column exists\n",
        "    if 'CNTYNAME' not in df.columns:\n",
        "        raise ValueError(\"DataFrame must contain a 'CNTYNAME' column\")\n",
        "\n",
        "    # Initialize clusters\n",
        "    df['cluster'] = -1\n",
        "    current_cluster = 0\n",
        "\n",
        "    # Sort counties by frequency (ascending) to handle rarer counties first\n",
        "    county_counts = df['CNTYNAME'].value_counts().sort_values()\n",
        "\n",
        "    for county in county_counts.index:\n",
        "        county_plants = df[df['CNTYNAME'] == county]\n",
        "\n",
        "        for _, plant in county_plants.iterrows():\n",
        "            # Find available clusters\n",
        "            available_clusters = df[df['cluster'] != -1]['cluster'].unique()\n",
        "            valid_clusters = []\n",
        "\n",
        "            for cluster in available_clusters:\n",
        "                cluster_size = (df['cluster'] == cluster).sum()\n",
        "                cluster_counties = df[df['cluster'] == cluster]['CNTYNAME'].unique()\n",
        "\n",
        "                if cluster_size < max_cluster_size and county not in cluster_counties:\n",
        "                    valid_clusters.append(cluster)\n",
        "\n",
        "            if valid_clusters:\n",
        "                # Assign to the smallest valid cluster\n",
        "                smallest_cluster = min(valid_clusters, key=lambda c: (df['cluster'] == c).sum())\n",
        "                df.loc[plant.name, 'cluster'] = smallest_cluster\n",
        "            else:\n",
        "                # Create a new cluster\n",
        "                df.loc[plant.name, 'cluster'] = current_cluster\n",
        "                current_cluster += 1\n",
        "\n",
        "    print(\"Clustering process completed.\")\n",
        "\n",
        "    unclustered = df[df['cluster'] == -1]\n",
        "    if len(unclustered) > 0:\n",
        "        print(f\"Warning: {len(unclustered)} plants were not assigned to any cluster.\")\n",
        "        print(\"Assigning these plants to new clusters...\")\n",
        "        for i, (_, plant) in enumerate(unclustered.iterrows()):\n",
        "            df.loc[plant.name, 'cluster'] = current_cluster + i\n",
        "        print(\"All plants have been assigned to clusters.\")\n",
        "    else:\n",
        "        print(\"Verified: All plants have been assigned to clusters.\")\n",
        "    return df\n",
        "\n",
        "\n",
        "# Usage\n",
        "print(\"Loading data...\")\n",
        "df = pd.read_csv('/content/gen_loc.csv')\n",
        "print(\"Data loaded. Starting clustering...\")\n",
        "result_df = cluster_locations(df, max_cluster_size=250)\n",
        "print(\"\\nFirst few rows of the result:\")\n",
        "print(result_df.head())\n",
        "print(f\"\\nShape of the result: {result_df.shape}\")\n",
        "print(\"\\nCluster distribution:\")\n",
        "print(result_df['cluster'].value_counts().sort_index())\n",
        "print(\"\\nNumber of clusters:\", result_df['cluster'].nunique())\n",
        "print(\"\\nProcess completed.\")"
      ]
    },
    {
      "cell_type": "markdown",
      "source": [],
      "metadata": {
        "id": "HnVCP10KcyS7"
      }
    },
    {
      "cell_type": "code",
      "source": [
        "result_df.to_csv('result.csv')"
      ],
      "metadata": {
        "id": "RJJ-uah8czkd"
      },
      "execution_count": null,
      "outputs": []
    },
    {
      "cell_type": "code",
      "source": [
        "import os\n",
        "print(os.getcwd())"
      ],
      "metadata": {
        "colab": {
          "base_uri": "https://localhost:8080/"
        },
        "id": "TATFFKdpUbkW",
        "outputId": "1a70a5f4-bf6c-4de9-8c72-52d88a6018b2"
      },
      "execution_count": null,
      "outputs": [
        {
          "output_type": "stream",
          "name": "stdout",
          "text": [
            "/content\n"
          ]
        }
      ]
    }
  ]
}